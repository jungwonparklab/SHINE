{
 "cells": [
  {
   "cell_type": "markdown",
   "metadata": {},
   "source": [
    "# Noise Statistics Estimation (Blind-spot Size Determination)\n",
    "\n",
    "This jupyter notebook provides a step-by-step guide for determining the appropriate blind-spot size for a given dataset."
   ]
  },
  {
   "cell_type": "code",
   "execution_count": null,
   "metadata": {},
   "outputs": [],
   "source": [
    "import cv2 as cv\n",
    "import numpy as np\n",
    "import matplotlib.pyplot as plt\n",
    "import matplotlib.colors as mcolors\n",
    "from ipywidgets import interactive, FloatLogSlider"
   ]
  },
  {
   "cell_type": "markdown",
   "metadata": {},
   "source": [
    "## Load an image from the dataset for estimation"
   ]
  },
  {
   "cell_type": "code",
   "execution_count": null,
   "metadata": {},
   "outputs": [],
   "source": [
    "# Path to an image in the dataset you want to denoise\n",
    "image = cv.imread(\"./Datasets/Au/Tif_convert0081.tif\", cv.IMREAD_UNCHANGED)"
   ]
  },
  {
   "cell_type": "markdown",
   "metadata": {},
   "source": [
    "## Define functions for noise statistics estimation"
   ]
  },
  {
   "cell_type": "code",
   "execution_count": null,
   "metadata": {},
   "outputs": [],
   "source": [
    "def numpy_normalize_zscore_normalize(image):\n",
    "    image = np.array(image,dtype=np.float32)\n",
    "    vec = image.flatten()\n",
    "    std = np.std(vec)\n",
    "    mean = np.mean(vec)\n",
    "    image = (image-mean)/std\n",
    "    return image\n",
    "\n",
    "def compute_correlation_for_distance(noise_img, distance):\n",
    "    \"\"\"Compute average correlation for a given relative distance\"\"\"\n",
    "    correlations = []\n",
    "    \n",
    "    # Shift the image by the distance in x and y directions and compute correlation\n",
    "    for dx in range(distance+1):\n",
    "        for dy in range(distance+1):\n",
    "            if dx == 0 and dy == 0:\n",
    "                correlations.append(1.0)\n",
    "                continue\n",
    "            shifted = np.roll(noise_img, shift=(dx, dy), axis=(0, 1))\n",
    "            corr_values = [np.corrcoef(noise_img[:, col], shifted[:, col])[0, 1] for col in range(noise_img.shape[1])]\n",
    "            correlations.append(np.mean(corr_values))\n",
    "\n",
    "    return np.mean(correlations)\n",
    "\n",
    "def relative_distance_correlation(image_tensor, max_distance):\n",
    "    \"\"\"Compute correlations for various relative distances\"\"\"\n",
    "    correlations = []\n",
    "    for distance in range(1, max_distance + 1):\n",
    "        correlation = compute_correlation_for_distance(image_tensor, distance)\n",
    "        correlations.append(correlation)\n",
    "    return correlations\n",
    "\n",
    "def spatial_correlation_heatmap(image_tensor, max_distance):\n",
    "    \"\"\"Compute 2D spatial correlation heatmap\"\"\"\n",
    "    size = 2 * max_distance + 1\n",
    "    heatmap = np.zeros((size, size))\n",
    "\n",
    "    def corr(x, y):\n",
    "        x = x - np.mean(x)\n",
    "        y = y - np.mean(y)\n",
    "        return np.sum(x * y) / (np.sqrt(np.sum(x**2)) * np.sqrt(np.sum(y**2)))\n",
    "\n",
    "    for dx in range(-max_distance, max_distance + 1):\n",
    "        for dy in range(-max_distance, max_distance + 1):\n",
    "            if dx == 0 and dy == 0:\n",
    "                heatmap[dx + max_distance, dy + max_distance] = 1.0\n",
    "                continue\n",
    "            shifted = np.roll(image_tensor, shift=(dx, dy), axis=(0, 1))\n",
    "            correlation = corr(image_tensor.flatten(), shifted.flatten())\n",
    "            heatmap[dx + max_distance, dy + max_distance] = correlation\n",
    "\n",
    "    return heatmap\n",
    "\n",
    "def compute_random_pixel_correlation(img, num_pairs=int(1e8)):\n",
    "    \"\"\"Compute correlation between random pixel pairs in an image.\"\"\"\n",
    "    \n",
    "    # Get random pixel coordinates\n",
    "    ys, xs = img.shape[:2]\n",
    "    random_x1 = np.random.randint(0, xs, num_pairs)\n",
    "    random_y1 = np.random.randint(0, ys, num_pairs)\n",
    "    random_x2 = np.random.randint(0, xs, num_pairs)\n",
    "    random_y2 = np.random.randint(0, ys, num_pairs)\n",
    "    \n",
    "    # Extract pixel values for these coordinates\n",
    "    values1 = img[random_y1, random_x1]\n",
    "    values2 = img[random_y2, random_x2]\n",
    "    \n",
    "    # Compute correlation\n",
    "    correlation = np.corrcoef(values1, values2)[0, 1]\n",
    "    \n",
    "    return correlation"
   ]
  },
  {
   "cell_type": "markdown",
   "metadata": {},
   "source": [
    "## Compute noise correlation and visualize the results"
   ]
  },
  {
   "cell_type": "code",
   "execution_count": null,
   "metadata": {},
   "outputs": [],
   "source": [
    "image = numpy_normalize_zscore_normalize(image)\n",
    "max_distance_to_check = 15\n",
    "max_distance = 15\n",
    "heatmap = spatial_correlation_heatmap(image, max_distance_to_check)\n",
    "correlations = relative_distance_correlation(image, max_distance_to_check)\n",
    "\n",
    "def plot_correlation(vmin, vmax):\n",
    "    fig, ax = plt.subplots(1, 2, figsize=(15, 6))\n",
    "\n",
    "    # 1D correlation plot\n",
    "    ax[1].semilogy(range(1, max_distance_to_check + 1), correlations, '-o', label='Noise Correlation')\n",
    "    ax[1].set_xticks(np.arange(0, max_distance_to_check, max_distance_to_check//5))\n",
    "    ax[1].set_xlabel('Relative Distance')\n",
    "    ax[1].set_ylabel('Correlation (Log Scale)')\n",
    "    ax[1].set_title('Correlation of Noise vs. Relative Distance (Log Scale)')\n",
    "    ax[1].grid(True)\n",
    "    ax[1].legend()\n",
    "\n",
    "    size = 2 * max_distance + 1\n",
    "    # 2D correlation heatmap\n",
    "    cax = ax[0].imshow(np.abs(heatmap), cmap='Blues', origin='lower', norm=mcolors.LogNorm(vmin=vmin, vmax=vmax))\n",
    "    cbar = fig.colorbar(cax, ax=ax[0], orientation='vertical')\n",
    "    ax[0].set_title('2D Spatial Correlation Heatmap')\n",
    "    ax[0].set_xlabel('dx')\n",
    "    ax[0].set_ylabel('dy')\n",
    "    ax[0].set_xticks(np.arange(0, size, size // 5))\n",
    "    ax[0].set_yticks(np.arange(0, size, size // 5))\n",
    "    ax[0].set_xticklabels(np.arange(-max_distance, max_distance + 1, size // 5))\n",
    "    ax[0].set_yticklabels(np.arange(-max_distance, max_distance + 1, size // 5))\n",
    "\n",
    "    plt.tight_layout()\n",
    "    plt.show()\n",
    "\n",
    "# Define sliders for vmin and vmax\n",
    "vmin_slider = FloatLogSlider(value=1e-1, base=10, min=-3, max=0, step=0.05, description='vmin')\n",
    "vmax_slider = FloatLogSlider(value=1, base=10, min=-1, max=0, step=0.05, description='vmax')\n",
    "\n",
    "# Create interactive widget\n",
    "interactive_plot = interactive(plot_correlation, vmin=vmin_slider, vmax=vmax_slider)\n",
    "interactive_plot"
   ]
  }
 ],
 "metadata": {
  "kernelspec": {
   "display_name": "TEM_denoiser",
   "language": "python",
   "name": "python3"
  },
  "language_info": {
   "codemirror_mode": {
    "name": "ipython",
    "version": 3
   },
   "file_extension": ".py",
   "mimetype": "text/x-python",
   "name": "python",
   "nbconvert_exporter": "python",
   "pygments_lexer": "ipython3",
   "version": "3.11.4"
  }
 },
 "nbformat": 4,
 "nbformat_minor": 2
}
