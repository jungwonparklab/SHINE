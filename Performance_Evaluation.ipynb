{
 "cells": [
  {
   "cell_type": "markdown",
   "metadata": {},
   "source": [
    "# Metrics for Evaluating Denoising Performance\n",
    "This jupyter notebook provides code for calculating image quality metrics used in the manuscript, including Peak Signal-to-Noise Ratio (PSNR), Structural Similarity Index (SSIM), and Signal-to-Noise Ratio (SNR)."
   ]
  },
  {
   "cell_type": "code",
   "execution_count": null,
   "metadata": {},
   "outputs": [],
   "source": [
    "from PIL import Image\n",
    "import glob\n",
    "import os\n",
    "import numpy as np\n",
    "import cv2 as cv\n",
    "import math\n",
    "import matplotlib.pyplot as plt\n",
    "import natsort\n",
    "np.random.seed(2222)"
   ]
  },
  {
   "cell_type": "code",
   "execution_count": null,
   "metadata": {},
   "outputs": [],
   "source": [
    "def calculate_psnr(img1, img2):\n",
    "    # img1 and img2 have range [0, 255]\n",
    "    img1 = img1.astype(np.float64)\n",
    "    img2 = img2.astype(np.float64)\n",
    "    mse = np.mean((img1 - img2)**2)\n",
    "    if mse == 0:\n",
    "        return float('inf')\n",
    "    return 20 * math.log10(255.0 / math.sqrt(mse))\n",
    "\n",
    "def ssim(img1, img2):\n",
    "    C1 = (0.01 * 255)**2\n",
    "    C2 = (0.03 * 255)**2\n",
    "    \n",
    "    img1 = img1.astype(np.float64)\n",
    "    img2 = img2.astype(np.float64)\n",
    "    kernel = cv.getGaussianKernel(11, 1.5)\n",
    "    window = np.outer(kernel, kernel.transpose())\n",
    "\n",
    "    mu1 = cv.filter2D(img1, -1, window)[5:-5, 5:-5] \n",
    "    mu2 = cv.filter2D(img2, -1, window)[5:-5, 5:-5]\n",
    "    mu1_sq = mu1**2\n",
    "    mu2_sq = mu2**2\n",
    "    mu1_mu2 = mu1 * mu2\n",
    "    sigma1_sq = cv.filter2D(img1**2, -1, window)[5:-5, 5:-5] - mu1_sq\n",
    "    sigma2_sq = cv.filter2D(img2**2, -1, window)[5:-5, 5:-5] - mu2_sq\n",
    "    sigma12 = cv.filter2D(img1 * img2, -1, window)[5:-5, 5:-5] - mu1_mu2\n",
    "\n",
    "    ssim_map = ((2 * mu1_mu2 + C1) * (2 * sigma12 + C2)) / ((mu1_sq + mu2_sq + C1) * (sigma1_sq + sigma2_sq + C2))\n",
    "    return ssim_map.mean()\n",
    "\n",
    "def calculate_ssim(img1, img2):\n",
    "    # img1 and img2 have range [0, 255]\n",
    "    if not img1.shape == img2.shape:\n",
    "        raise ValueError('Input images must have the same dimensions.')\n",
    "    if img1.ndim == 2:\n",
    "        return ssim(img1, img2)\n",
    "    elif img1.ndim == 3:\n",
    "        if img1.shape[2] == 3:\n",
    "            ssims = []\n",
    "            for i in range(3):\n",
    "                ssims.append(ssim(img1, img2))\n",
    "            return np.array(ssims).mean()\n",
    "        elif img1.shape[2] == 1:\n",
    "            return ssim(np.squeeze(img1), np.squeeze(img2))\n",
    "    else:\n",
    "        raise ValueError('Wrong input image dimensions.')\n",
    "\n",
    "def calculate_snr(img1, img2):\n",
    "    # cross-correlation based SNR calculation\n",
    "    # Reference: Nature 256, 376-379 (1975)\n",
    "    img1_1 = img1\n",
    "    img2_1 = img2\n",
    "    img1 = Image.open(img1)\n",
    "    img2 = Image.open(img2)\n",
    "    mean1 = np.mean(img1)\n",
    "    mean2 = np.mean(img2)\n",
    "    r = np.mean((img1 - mean1) * (img2 - mean2)) / np.sqrt(np.mean(np.power(img1 - mean1, 2)) * np.mean(np.power(img2 - mean2, 2)))\n",
    "    if r < 0:\n",
    "        print(img1_1, img2_1, r)\n",
    "    return 10 * np.log10(r / (1 - r))"
   ]
  },
  {
   "cell_type": "markdown",
   "metadata": {},
   "source": [
    "## Evaluate image quality metrics of simulated dataset\n",
    "Calculate PSNR and SSIM for simulated datasets, both before and after denoising, using clean images as reference. Then, plot the frame index against PSNR and SSIM for visualization."
   ]
  },
  {
   "cell_type": "code",
   "execution_count": null,
   "metadata": {},
   "outputs": [],
   "source": [
    "clean_dir = '/path/to/ground_truth_dataset/' # clean images\n",
    "noisy_dir = '/path/to/noisy_dataset/' # noisy images\n",
    "denoised_dir = '/path/to/denoised_dataset/' # denoised images, including results from other methods\n",
    "\n",
    "clean_list = glob.glob(clean_dir + \"*.tif\")\n",
    "noisy_list = glob.glob(noisy_dir + \"*.tif\")\n",
    "denoised_list = glob.glob(denoised_dir + \"*.tif\")"
   ]
  },
  {
   "cell_type": "code",
   "execution_count": null,
   "metadata": {},
   "outputs": [],
   "source": [
    "psnr_noisy = []\n",
    "ssim_noisy = []\n",
    "psnr_denoised = []\n",
    "ssim_denoised = []\n",
    "\n",
    "for i in range(len(clean_list)):\n",
    "    clean_image = np.array(Image.open(clean_list[i]))\n",
    "    noisy_image = np.array(Image.open(noisy_list[i]))\n",
    "    denoised_image = np.array(Image.open(denoised_list[i]))\n",
    "\n",
    "    # Normalize image intensities to the range [0, 255]\n",
    "    clean_image= (clean_image - clean_image.min()) * 255.0 / (clean_image.max() - clean_image.min())\n",
    "    clean_image = np.round(clean_image)\n",
    "    noisy_image = (noisy_image - noisy_image.min()) * 255.0 / (noisy_image.max() - noisy_image.min())\n",
    "    noisy_image = np.round(noisy_image)\n",
    "    denoised_image = (denoised_image - denoised_image.min()) * 255.0 / (denoised_image.max() - denoised_image.min())\n",
    "    denoised_image = np.round(denoised_image)\n",
    "\n",
    "    # Calculate PSNR and SSIM for noisy images compared to the clean reference\n",
    "    psnr_noisy.append(\n",
    "        calculate_psnr(clean_image, np.flipud(noisy_image))\n",
    "    )\n",
    "    ssim_noisy.append(\n",
    "        calculate_ssim(clean_image, np.flipud(noisy_image))\n",
    "    )\n",
    "\n",
    "    # Calculate PSNR and SSIM for denoised images compared to the clean reference\n",
    "    psnr_denoised.append(\n",
    "    calculate_psnr(clean_image, denoised_image)\n",
    "    )\n",
    "    ssim_denoised.append(\n",
    "        calculate_ssim(clean_image, denoised_image)\n",
    "    )\n",
    "psnr_noisy = np.asarray(psnr_noisy)\n",
    "ssim_noisy = np.asarray(ssim_noisy)\n",
    "psnr_denoised = np.asarray(psnr_denoised)\n",
    "ssim_denoised = np.asarray(ssim_denoised)"
   ]
  },
  {
   "cell_type": "code",
   "execution_count": null,
   "metadata": {},
   "outputs": [],
   "source": [
    "fig, ax = plt.subplots(1, 2, figsize = (14, 5))\n",
    "ax[0].plot(psnr_noisy)\n",
    "ax[0].set_ylabel('Peak signal-to-noise ratio (dB)')\n",
    "ax[0].set_xlabel('Frame index')\n",
    "\n",
    "ax[1].plot(ssim_noisy)\n",
    "ax[1].set_ylabel('SSIM')\n",
    "ax[1].set_xlabel('Frame index')\n",
    "plt.show()\n",
    "\n",
    "print('mean PSNR = ' + str(np.mean(psnr_noisy)) + ' +- ' + str(np.std(psnr_noisy)))\n",
    "print('mean SSIM = ' + str(np.mean(ssim_noisy)) + ' +- ' + str(np.std(ssim_noisy)))"
   ]
  },
  {
   "cell_type": "code",
   "execution_count": null,
   "metadata": {},
   "outputs": [],
   "source": [
    "fig, ax = plt.subplots(1, 2, figsize = (14, 5))\n",
    "ax[0].plot(psnr_denoised)\n",
    "ax[0].set_ylabel('Peak signal-to-noise ratio (dB)')\n",
    "ax[0].set_xlabel('Frame index')\n",
    "\n",
    "ax[1].plot(ssim_denoised)\n",
    "ax[1].set_ylabel('SSIM')\n",
    "ax[1].set_xlabel('Frame index')\n",
    "plt.show()\n",
    "\n",
    "print('mean PSNR = ' + str(np.mean(psnr_denoised)) + ' +- ' + str(np.std(psnr_denoised)))\n",
    "print('mean SSIM = ' + str(np.mean(ssim_denoised)) + ' +- ' + str(np.std(ssim_denoised)))"
   ]
  },
  {
   "cell_type": "markdown",
   "metadata": {},
   "source": [
    "## Evaluate image quality metrics of real datasets\n",
    "Calculate SNR for real datasets using only the images within each dataset, and save the results as text files."
   ]
  },
  {
   "cell_type": "code",
   "execution_count": null,
   "metadata": {},
   "outputs": [],
   "source": [
    "noisy_dir = '/path/to/noisy_dataset/' # noisy images\n",
    "denoised_dir = '/path/to/denoised_dataset/' # denoised images, including results from other methods\n",
    "snr_dir = '/path/to/snr_results_files/' # snr results\n",
    "\n",
    "noisy_list = natsort.natsorted(glob.glob(noisy_dir + \"*.tif\"))\n",
    "denoised_list = natsort.natsorted(glob.glob(denoised_dir + \"*.tif\"))"
   ]
  },
  {
   "cell_type": "code",
   "execution_count": null,
   "metadata": {},
   "outputs": [],
   "source": [
    "num_img = len(noisy_list)\n",
    "snr_noisy = np.zeros(num_img + 1)\n",
    "snr_denoised = np.zeros(num_img + 1)\n",
    "\n",
    "# Calculate SNR for noisy and denoised images\n",
    "for i in range(num_img - 1):\n",
    "    snr_noisy[i + 2] = calculate_snr(noisy_list[i], noisy_list[i + 1])\n",
    "    snr_denoised[i + 2] = calculate_snr(denoised_list[i], denoised_list[i + 1])\n",
    "\n",
    "# Calculate mean and standard deviation of SNR\n",
    "snr_noisy[0] = np.mean(snr_noisy[2:])  # Mean SNR (first line)\n",
    "snr_noisy[1] = np.std(snr_noisy[2:])   # Standard deviation of SNR (second line)\n",
    "\n",
    "snr_denoised[0] = np.mean(snr_denoised[2:])\n",
    "snr_denoised[1] = np.std(snr_denoised[2:])\n",
    "\n",
    "# Save results to text files\n",
    "np.savetxt(os.path.join(snr_dir, 'snr_noisy.txt'), snr_noisy, fmt=\"%.6f\")\n",
    "np.savetxt(os.path.join(snr_dir, 'snr_denoised.txt'), snr_denoised, fmt=\"%.6f\")\n",
    "\n",
    "print('mean SNR of noisy images = ' + str(snr_noisy[0]) + ' +- ' + str(snr_noisy[1]))\n",
    "print('mean SNR of denoised images = ' + str(snr_denoised[0]) + ' +- ' + str(snr_denoised[1]))"
   ]
  }
 ],
 "metadata": {
  "kernelspec": {
   "display_name": "TEM_denoiser",
   "language": "python",
   "name": "python3"
  },
  "language_info": {
   "codemirror_mode": {
    "name": "ipython",
    "version": 3
   },
   "file_extension": ".py",
   "mimetype": "text/x-python",
   "name": "python",
   "nbconvert_exporter": "python",
   "pygments_lexer": "ipython3",
   "version": "3.11.4"
  }
 },
 "nbformat": 4,
 "nbformat_minor": 2
}
